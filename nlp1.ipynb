{
  "cells": [
    {
      "cell_type": "code",
      "execution_count": 1,
      "metadata": {
        "colab": {
          "base_uri": "https://localhost:8080/"
        },
        "id": "5l-x6jd_0dxm",
        "outputId": "0a5b88a3-7212-4336-8746-8f590f2a2143"
      },
      "outputs": [
        {
          "output_type": "stream",
          "name": "stderr",
          "text": [
            "[nltk_data] Downloading package gutenberg to /root/nltk_data...\n",
            "[nltk_data]   Unzipping corpora/gutenberg.zip.\n",
            "[nltk_data] Downloading package punkt_tab to /root/nltk_data...\n",
            "[nltk_data]   Unzipping tokenizers/punkt_tab.zip.\n",
            "[nltk_data] Downloading package nps_chat to /root/nltk_data...\n",
            "[nltk_data]   Unzipping corpora/nps_chat.zip.\n"
          ]
        }
      ],
      "source": [
        "import matplotlib.pyplot as plt\n",
        "import nltk\n",
        "nltk.download('gutenberg')\n",
        "nltk.download('punkt_tab')\n",
        "nltk.download('nps_chat')\n",
        "\n",
        "\n",
        "from nltk.corpus import gutenberg"
      ]
    },
    {
      "cell_type": "markdown",
      "metadata": {
        "id": "J0GFwLcCy41E"
      },
      "source": [
        "# 1. Python program to tokenize the sentence: \"Natural Language Processing with Python is fun!\" into words."
      ]
    },
    {
      "cell_type": "code",
      "execution_count": 2,
      "metadata": {
        "colab": {
          "base_uri": "https://localhost:8080/"
        },
        "id": "Z_Gd-dkozf5r",
        "outputId": "ac0d393f-660b-436f-aeed-1375de40b812"
      },
      "outputs": [
        {
          "output_type": "execute_result",
          "data": {
            "text/plain": [
              "['Natural', 'Language', 'Processing', 'with', 'Python', 'is', 'fun', '!']"
            ]
          },
          "metadata": {},
          "execution_count": 2
        }
      ],
      "source": [
        "import nltk\n",
        "\n",
        "# Sentence to tokenize\n",
        "sentence = \"Natural Language Processing with Python is fun!\"\n",
        "\n",
        "# Tokenize the sentence into words\n",
        "words = nltk.word_tokenize(sentence)\n",
        "\n",
        "words"
      ]
    },
    {
      "cell_type": "markdown",
      "metadata": {
        "id": "0osMaMCtzJYV"
      },
      "source": [
        "# 2. Using NLTK, write a program to find the frequency distribution into words in the next of \"Moby Dick\" by Herman Melville."
      ]
    },
    {
      "cell_type": "code",
      "execution_count": null,
      "metadata": {
        "colab": {
          "base_uri": "https://localhost:8080/"
        },
        "id": "3Zwa0oamyc0B",
        "outputId": "a0e881a2-ba15-4481-f0f5-6da870047e2a"
      },
      "outputs": [
        {
          "name": "stdout",
          "output_type": "stream",
          "text": [
            "Most common 10 words:  [(',', 18713), ('the', 14431), ('.', 6862), ('of', 6609), ('and', 6430), ('a', 4736), ('to', 4625), ('in', 4172), (';', 4072), ('that', 3085)]\n",
            "Full frequency distribution:  <FreqDist with 17231 samples and 260819 outcomes>\n"
          ]
        }
      ],
      "source": [
        "from nltk.probability import FreqDist\n",
        "\n",
        "moby_dick_words = gutenberg.words('melville-moby_dick.txt')\n",
        "\n",
        "words_lowercase = [word.lower() for word in moby_dick_words]\n",
        "\n",
        "fdist = FreqDist(words_lowercase)\n",
        "\n",
        "print(\"Most common 10 words: \",fdist.most_common(10))\n",
        "\n",
        "print(\"Full frequency distribution: \",fdist)"
      ]
    },
    {
      "cell_type": "markdown",
      "metadata": {
        "id": "NKXrPtfszbbl"
      },
      "source": [
        "# 3. Create a bigram collocation finder using NLTK for the text of \"Sense and sensibility\" by Jane Austen and list the top 5 bigrams."
      ]
    },
    {
      "cell_type": "code",
      "execution_count": null,
      "metadata": {
        "colab": {
          "base_uri": "https://localhost:8080/"
        },
        "id": "6d8B7PdKzx-l",
        "outputId": "6438cda3-8ccc-4d64-9442-34c74160a560"
      },
      "outputs": [
        {
          "name": "stdout",
          "output_type": "stream",
          "text": [
            "Top 5 bigrams:\n",
            "(\"'\", 's')\n",
            "(',', 'and')\n",
            "('mrs', '.')\n",
            "('.\"', '\"')\n",
            "(';', 'and')\n"
          ]
        }
      ],
      "source": [
        "import nltk\n",
        "from nltk.collocations import BigramCollocationFinder\n",
        "from nltk.metrics import BigramAssocMeasures\n",
        "from nltk.tokenize import word_tokenize\n",
        "\n",
        "sense_and_sensibility_words = gutenberg.words('austen-sense.txt')\n",
        "words_lowercase = [word.lower() for word in sense_and_sensibility_words]\n",
        "bigrams = list(nltk.bigrams(words_lowercase))\n",
        "\n",
        "bigram_finder = BigramCollocationFinder.from_words(words_lowercase)\n",
        "top_bigrams = bigram_finder.nbest(BigramAssocMeasures.likelihood_ratio, 5)\n",
        "\n",
        "print(\"Top 5 bigrams:\")\n",
        "for bigram in top_bigrams:\n",
        "    print(bigram)\n"
      ]
    },
    {
      "cell_type": "markdown",
      "metadata": {
        "id": "NTCz_5OdzyRc"
      },
      "source": [
        "# 4. Using NLTK's text2 (S&S by Jane Austen), calculate the total number of words and the number of distinct words."
      ]
    },
    {
      "cell_type": "code",
      "execution_count": null,
      "metadata": {
        "colab": {
          "base_uri": "https://localhost:8080/"
        },
        "id": "y016wVb30Bwb",
        "outputId": "67e93ee3-8b5d-4e98-c000-31a956531c5c"
      },
      "outputs": [
        {
          "name": "stdout",
          "output_type": "stream",
          "text": [
            "Total number of words: 141576\n",
            "Number of distinct words: 6833\n"
          ]
        }
      ],
      "source": [
        "total_words = len(sense_and_sensibility_words)\n",
        "distinct_words = len(set(sense_and_sensibility_words))\n",
        "\n",
        "print(\"Total number of words:\", total_words)\n",
        "print(\"Number of distinct words:\", distinct_words)"
      ]
    },
    {
      "cell_type": "markdown",
      "metadata": {
        "id": "AeFi7rr50B17"
      },
      "source": [
        "# 5. Compare the lexical diversityof humour and romance fiction in NLTK's text5 and text2. Which genre is more lexically diverse?"
      ]
    },
    {
      "cell_type": "code",
      "execution_count": null,
      "metadata": {
        "colab": {
          "base_uri": "https://localhost:8080/"
        },
        "id": "tPUZquj00LWT",
        "outputId": "7ddc68aa-eb3f-44f3-a5bc-c7c8469596f9"
      },
      "outputs": [
        {
          "name": "stdout",
          "output_type": "stream",
          "text": [
            "Lexical Diversity of Romance Fiction (Sense and Sensibility): 0.04826383002768831\n",
            "Lexical Diversity of Adventure Fiction (Moby Dick): 0.07406285585022564\n",
            "Adventure fiction (Moby Dick) is more lexically diverse.\n"
          ]
        }
      ],
      "source": [
        "def lexical_diversity(text):\n",
        "    total_words = len(text)\n",
        "    distinct_words = len(set(text))\n",
        "    return distinct_words / total_words\n",
        "humor_text_words = gutenberg.words('carroll-alice.txt')\n",
        "\n",
        "lexical_diversity_sense_and_sensibility = lexical_diversity(sense_and_sensibility_words)\n",
        "lexical_diversity_moby_dick = lexical_diversity(moby_dick_words)\n",
        "\n",
        "print(\"Lexical Diversity of Romance Fiction (Sense and Sensibility):\", lexical_diversity_sense_and_sensibility)\n",
        "print(\"Lexical Diversity of Adventure Fiction (Moby Dick):\", lexical_diversity_moby_dick)\n",
        "\n",
        "if lexical_diversity_sense_and_sensibility > lexical_diversity_moby_dick:\n",
        "    print(\"Romance fiction (Sense and Sensibility) is more lexically diverse.\")\n",
        "else:\n",
        "    print(\"Adventure fiction (Moby Dick) is more lexically diverse.\")"
      ]
    },
    {
      "cell_type": "markdown",
      "metadata": {
        "id": "xb5d6AYj0Lhb"
      },
      "source": [
        "# 6. Produce a dispersion plot of the four main protagonists in \"Sense and sensibility\"."
      ]
    },
    {
      "cell_type": "code",
      "execution_count": null,
      "metadata": {
        "colab": {
          "base_uri": "https://localhost:8080/",
          "height": 472
        },
        "id": "w7gxpgA64_9P",
        "outputId": "25dec70c-fd58-44eb-e44a-dbb08f827a40"
      },
      "outputs": [
        {
          "data": {
            "image/png": "[encoded data removed]",
            "text/plain": [
              "<Figure size 640x480 with 1 Axes>"
            ]
          },
          "metadata": {},
          "output_type": "display_data"
        }
      ],
      "source": [
        "# List of main protagonists\n",
        "protagonists = ['Elinor', 'Marianne', 'Edward', 'Brandon']\n",
        "\n",
        "nltk.draw.dispersion_plot(sense_and_sensibility_words, protagonists)\n",
        "\n",
        "plt.show()"
      ]
    },
    {
      "cell_type": "markdown",
      "metadata": {
        "id": "rn9Laro_5tXk"
      },
      "source": [
        "# 7. Find the collocation in NLTK's text5 (the chat corpus). List top 5 collections."
      ]
    },
    {
      "cell_type": "code",
      "execution_count": null,
      "metadata": {
        "colab": {
          "base_uri": "https://localhost:8080/"
        },
        "id": "RSaFLdzn5Dp6",
        "outputId": "bb3633e6-8ee0-4733-c65f-82aac444d3d3"
      },
      "outputs": [
        {
          "name": "stdout",
          "output_type": "stream",
          "text": [
            "[('!...', 'lotsa'), (\"'n'\", 'Cream'), ('*sniffs*', 'ewwwwww'), (',,,,,,,', 'babblein'), ('-s', 'woooohoooo')]\n"
          ]
        }
      ],
      "source": [
        "text5 = nps_chat.words()\n",
        "\n",
        "# Set up bigram collocations\n",
        "bigram_measures = BigramAssocMeasures()\n",
        "collocator = BigramCollocationFinder.from_words(text5)\n",
        "\n",
        "# Find the top 5 collocations using Pointwise Mutual Information (PMI)\n",
        "top_5_collocations = collocator.nbest(bigram_measures.pmi, 5)\n",
        "\n",
        "print(top_5_collocations)\n"
      ]
    },
    {
      "cell_type": "markdown",
      "metadata": {
        "id": "7bLiSoQy53VS"
      },
      "source": [
        "# 8. Define two lists, phrase1 and phrase2, each containing a few words. Join them together to form a sentence."
      ]
    },
    {
      "cell_type": "code",
      "execution_count": null,
      "metadata": {
        "colab": {
          "base_uri": "https://localhost:8080/"
        },
        "id": "COGgXCN-6Ban",
        "outputId": "5f723e5f-ee0f-4ecb-8808-cda3e23f0562"
      },
      "outputs": [
        {
          "name": "stdout",
          "output_type": "stream",
          "text": [
            "The quick brown fox jumps over the lazy dog\n"
          ]
        }
      ],
      "source": [
        "# Define the two lists\n",
        "phrase1 = [\"The\", \"quick\", \"brown\", \"fox\"]\n",
        "phrase2 = [\"jumps\", \"over\", \"the\", \"lazy\", \"dog\"]\n",
        "\n",
        "# Join the two lists to form a sentence\n",
        "sentence = ' '.join(phrase1 + phrase2)\n",
        "\n",
        "print(sentence)"
      ]
    },
    {
      "cell_type": "code",
      "execution_count": null,
      "metadata": {
        "id": "dAf-6Fkd9SbB"
      },
      "outputs": [],
      "source": []
    }
  ],
  "metadata": {
    "colab": {
      "provenance": []
    },
    "kernelspec": {
      "display_name": "Python 3",
      "name": "python3"
    },
    "language_info": {
      "name": "python"
    }
  },
  "nbformat": 4,
  "nbformat_minor": 0
}