{
  "nbformat": 4,
  "nbformat_minor": 0,
  "metadata": {
    "colab": {
      "provenance": []
    },
    "kernelspec": {
      "name": "python3",
      "display_name": "Python 3"
    },
    "language_info": {
      "name": "python"
    }
  },
  "cells": [
    {
      "cell_type": "code",
      "source": [
        "nltk.download('all')"
      ],
      "metadata": {
        "id": "GKT1ljKo_tmR"
      },
      "execution_count": null,
      "outputs": []
    },
    {
      "cell_type": "markdown",
      "source": [
        "# CHAPTER 6"
      ],
      "metadata": {
        "id": "s3VZlvDV6SkY"
      }
    },
    {
      "cell_type": "markdown",
      "source": [
        "1.\tUsing the names corpus in NLTK, build a gender classifier that predicts whether a name is male or female based on the last letter of the name. Evaluate its accuracy.\n",
        "\n"
      ],
      "metadata": {
        "id": "NUlLpdvu6OwJ"
      }
    },
    {
      "cell_type": "code",
      "source": [
        "from nltk.corpus import names\n",
        "import random\n",
        "\n",
        "# Prepare the training data using last letter of names\n",
        "def gender_features(name):\n",
        "    return {'last_letter': name[-1]}\n",
        "\n",
        "# Create training and test datasets\n",
        "names_data = [(name, 'male') for name in names.words('male.txt')] + [(name, 'female') for name in names.words('female.txt')]\n",
        "random.shuffle(names_data)\n",
        "\n",
        "train_data = [(gender_features(name), gender) for (name, gender) in names_data[:int(len(names_data) * 0.8)]]\n",
        "test_data = [(gender_features(name), gender) for (name, gender) in names_data[int(len(names_data) * 0.8):]]\n",
        "\n",
        "# Train the classifier\n",
        "classifier = nltk.NaiveBayesClassifier.train(train_data)\n",
        "\n",
        "# Evaluate the classifier\n",
        "accuracy = nltk.classify.accuracy(classifier, test_data)\n",
        "print(f\"Accuracy: {accuracy}\")"
      ],
      "metadata": {
        "colab": {
          "base_uri": "https://localhost:8080/"
        },
        "id": "QvAiX_gx8AcQ",
        "outputId": "844075c0-c8c2-4b99-efd4-40b25df67247"
      },
      "execution_count": null,
      "outputs": [
        {
          "output_type": "stream",
          "name": "stdout",
          "text": [
            "Accuracy: 0.7658904971680303\n"
          ]
        }
      ]
    },
    {
      "cell_type": "markdown",
      "source": [
        "2.\tEnhance the gender classifier by including features such as the first letter and the length of the name. Evaluate if these features improve the classifier's accuracy.\n"
      ],
      "metadata": {
        "id": "fQzO-6hh8KNn"
      }
    },
    {
      "cell_type": "code",
      "source": [
        "# Enhanced feature extractor: first letter and name length\n",
        "def enhanced_gender_features(name):\n",
        "    return {\n",
        "        'last_letter': name[-1],\n",
        "        'first_letter': name[0],\n",
        "        'length': len(name)\n",
        "    }\n",
        "\n",
        "# Train the enhanced classifier\n",
        "train_data_enhanced = [(enhanced_gender_features(name), gender) for (name, gender) in names_data[:int(len(names_data) * 0.8)]]\n",
        "test_data_enhanced = [(enhanced_gender_features(name), gender) for (name, gender) in names_data[int(len(names_data) * 0.8):]]\n",
        "\n",
        "# Train the classifier\n",
        "enhanced_classifier = nltk.NaiveBayesClassifier.train(train_data_enhanced)\n",
        "\n",
        "# Evaluate the enhanced classifier\n",
        "enhanced_accuracy = nltk.classify.accuracy(enhanced_classifier, test_data_enhanced)\n",
        "print(f\"Enhanced Accuracy: {enhanced_accuracy}\")"
      ],
      "metadata": {
        "colab": {
          "base_uri": "https://localhost:8080/"
        },
        "id": "QYkF_MGT8A__",
        "outputId": "7312f4ad-c3b5-477e-c34d-3748ea5ce140"
      },
      "execution_count": null,
      "outputs": [
        {
          "output_type": "stream",
          "name": "stdout",
          "text": [
            "Enhanced Accuracy: 0.7696664568911264\n"
          ]
        }
      ]
    },
    {
      "cell_type": "markdown",
      "source": [
        "3.\tUsing the movie_reviews corpus in NLTK, build a document classifier to categorize movie reviews as positive or negative. Evaluate its performance.\n"
      ],
      "metadata": {
        "id": "0b0RNJDp8LsZ"
      }
    },
    {
      "cell_type": "code",
      "source": [
        "from nltk.corpus import movie_reviews\n",
        "\n",
        "# Feature extractor: bag of words\n",
        "def extract_features(words):\n",
        "    return {word: True for word in words}\n",
        "\n",
        "# Prepare the dataset\n",
        "positive_reviews = movie_reviews.categories('pos')\n",
        "negative_reviews = movie_reviews.categories('neg')\n",
        "\n",
        "positive_data = [(extract_features(movie_reviews.words(fileid)), 'pos') for fileid in movie_reviews.fileids('pos')]\n",
        "negative_data = [(extract_features(movie_reviews.words(fileid)), 'neg') for fileid in movie_reviews.fileids('neg')]\n",
        "\n",
        "# Train-test split\n",
        "train_data = positive_data[:int(len(positive_data) * 0.8)] + negative_data[:int(len(negative_data) * 0.8)]\n",
        "test_data = positive_data[int(len(positive_data) * 0.8):] + negative_data[int(len(negative_data) * 0.8):]\n",
        "\n",
        "# Train Naive Bayes classifier\n",
        "movie_classifier = nltk.NaiveBayesClassifier.train(train_data)\n",
        "\n",
        "# Evaluate the classifier\n",
        "movie_accuracy = nltk.classify.accuracy(movie_classifier, test_data)\n",
        "print(f\"Movie Review Classifier Accuracy: {movie_accuracy}\")"
      ],
      "metadata": {
        "colab": {
          "base_uri": "https://localhost:8080/"
        },
        "id": "7upCjGxr8MiB",
        "outputId": "80fe9a6a-e961-47c6-c820-76e47c8fb343"
      },
      "execution_count": null,
      "outputs": [
        {
          "output_type": "stream",
          "name": "stdout",
          "text": [
            "Movie Review Classifier Accuracy: 0.735\n"
          ]
        }
      ]
    },
    {
      "cell_type": "markdown",
      "source": [
        "4.\tImplement a custom feature extractor for the movie review classifier that considers bigrams (pairs of consecutive words) in addition to unigrams (single words). Evaluate its impact on classification accuracy.\n"
      ],
      "metadata": {
        "id": "uO5Y6-I08Mqw"
      }
    },
    {
      "cell_type": "code",
      "source": [
        "from nltk import bigrams\n",
        "\n",
        "# Feature extractor with bigrams\n",
        "def extract_bigram_features(words):\n",
        "    word_bigrams = bigrams(words)\n",
        "    return {f\"bigram_{w1}_{w2}\": True for w1, w2 in word_bigrams}\n",
        "\n",
        "# Update dataset with bigrams\n",
        "train_data_bigram = [(extract_bigram_features(movie_reviews.words(fileid)), category)\n",
        "                     for fileid, category in zip(movie_reviews.fileids(), ['pos', 'neg'])]\n",
        "\n",
        "# Train Naive Bayes classifier\n",
        "bigram_classifier = nltk.NaiveBayesClassifier.train(train_data_bigram)\n",
        "\n",
        "# Evaluate the classifier\n",
        "bigram_accuracy = nltk.classify.accuracy(bigram_classifier, test_data)\n",
        "print(f\"Bigram Classifier Accuracy: {bigram_accuracy}\")"
      ],
      "metadata": {
        "colab": {
          "base_uri": "https://localhost:8080/"
        },
        "id": "nqyuZCwG8Pln",
        "outputId": "201350cc-cd5a-4780-c8a9-ad7c5f4c160d"
      },
      "execution_count": null,
      "outputs": [
        {
          "output_type": "stream",
          "name": "stdout",
          "text": [
            "Bigram Classifier Accuracy: 0.5\n"
          ]
        }
      ]
    },
    {
      "cell_type": "markdown",
      "source": [
        "5.\tBuild a Naive Bayes classifier using the names corpus to predict gender based on both the first and last letters of a name. Evaluate the model's accuracy.\n"
      ],
      "metadata": {
        "id": "bM5Z5NtK8Nnv"
      }
    },
    {
      "cell_type": "code",
      "source": [
        "# Feature extractor using both first and last letters\n",
        "def name_gender_features(name):\n",
        "    return {'first_letter': name[0], 'last_letter': name[-1]}\n",
        "\n",
        "# Create training and test datasets for gender classification\n",
        "train_data_gender = [(name_gender_features(name), gender) for (name, gender) in names_data[:int(len(names_data) * 0.8)]]\n",
        "test_data_gender = [(name_gender_features(name), gender) for (name, gender) in names_data[int(len(names_data) * 0.8):]]\n",
        "\n",
        "# Train Naive Bayes classifier\n",
        "gender_classifier = nltk.NaiveBayesClassifier.train(train_data_gender)\n",
        "\n",
        "# Evaluate the classifier\n",
        "gender_accuracy = nltk.classify.accuracy(gender_classifier, test_data_gender)\n",
        "print(f\"Gender Classifier Accuracy: {gender_accuracy}\")"
      ],
      "metadata": {
        "colab": {
          "base_uri": "https://localhost:8080/"
        },
        "id": "4o1LgDBW8Nsg",
        "outputId": "5b662f9f-58e8-4974-d265-09705c360fae"
      },
      "execution_count": null,
      "outputs": [
        {
          "output_type": "stream",
          "name": "stdout",
          "text": [
            "Gender Classifier Accuracy: 0.7696664568911264\n"
          ]
        }
      ]
    },
    {
      "cell_type": "markdown",
      "source": [
        "6.\tWrite a Python program using the movie_reviews corpus to identify the 10 most common words in positive reviews.\n"
      ],
      "metadata": {
        "id": "KFzKKRkC8QnZ"
      }
    },
    {
      "cell_type": "code",
      "source": [
        "from nltk.probability import FreqDist\n",
        "\n",
        "# Get the words from positive reviews\n",
        "positive_words = [word.lower() for fileid in movie_reviews.fileids('pos') for word in movie_reviews.words(fileid)]\n",
        "\n",
        "# Calculate frequency distribution\n",
        "fdist = FreqDist(positive_words)\n",
        "\n",
        "# Get the 10 most common words\n",
        "print(fdist.most_common(10))"
      ],
      "metadata": {
        "colab": {
          "base_uri": "https://localhost:8080/"
        },
        "id": "bVsukw6L8QBW",
        "outputId": "de3a2c19-b45e-4d6f-a582-817c6a8bf383"
      },
      "execution_count": null,
      "outputs": [
        {
          "output_type": "stream",
          "name": "stdout",
          "text": [
            "[(',', 42448), ('the', 41471), ('.', 33714), ('a', 20196), ('and', 19896), ('of', 18636), ('to', 16517), (\"'\", 15268), ('is', 14059), ('in', 11725)]\n"
          ]
        }
      ]
    },
    {
      "cell_type": "markdown",
      "source": [
        "7.\tImplement a Naive Bayes classifier to classify movie reviews using only adjectives as features.\n"
      ],
      "metadata": {
        "id": "2SZfwIPn8RsJ"
      }
    },
    {
      "cell_type": "code",
      "source": [
        "# Feature extractor that only considers adjectives\n",
        "def extract_adjective_features(words):\n",
        "    adjectives = [word for word, tag in nltk.pos_tag(words) if tag in ['JJ', 'JJR', 'JJS']]\n",
        "    return {word: True for word in adjectives}\n",
        "\n",
        "# Prepare the dataset\n",
        "train_data_adj = [(extract_adjective_features(movie_reviews.words(fileid)), category)\n",
        "                  for fileid, category in zip(movie_reviews.fileids(), ['pos', 'neg'])]\n",
        "\n",
        "# Train Naive Bayes classifier\n",
        "adj_classifier = nltk.NaiveBayesClassifier.train(train_data_adj)\n",
        "\n",
        "# Evaluate the classifier\n",
        "adj_accuracy = nltk.classify.accuracy(adj_classifier, test_data)\n",
        "print(f\"Adjective Classifier Accuracy: {adj_accuracy}\")"
      ],
      "metadata": {
        "colab": {
          "base_uri": "https://localhost:8080/"
        },
        "id": "TmvRScyX8Rzs",
        "outputId": "2d2178ac-0520-4a6a-dc32-f096b9c1c1fb"
      },
      "execution_count": null,
      "outputs": [
        {
          "output_type": "stream",
          "name": "stdout",
          "text": [
            "Adjective Classifier Accuracy: 0.5\n"
          ]
        }
      ]
    },
    {
      "cell_type": "markdown",
      "source": [
        "8.\tWrite a Python program that uses the names corpus to build a gender classifier using Decision Tree Classifier from NLTK.\n"
      ],
      "metadata": {
        "id": "KKk6uH8W8Tjx"
      }
    },
    {
      "cell_type": "code",
      "source": [
        "from nltk.classify import DecisionTreeClassifier\n",
        "\n",
        "# Train Decision Tree Classifier on gender features\n",
        "tree_classifier = DecisionTreeClassifier.train(train_data_gender)\n",
        "\n",
        "# Evaluate the classifier\n",
        "tree_accuracy = nltk.classify.accuracy(tree_classifier, test_data_gender)\n",
        "print(f\"Decision Tree Classifier Accuracy: {tree_accuracy}\")"
      ],
      "metadata": {
        "colab": {
          "base_uri": "https://localhost:8080/"
        },
        "id": "zFB0K9ax8USg",
        "outputId": "cb46c9e6-438e-4e0b-c0d6-731aa0d06f11"
      },
      "execution_count": null,
      "outputs": [
        {
          "output_type": "stream",
          "name": "stdout",
          "text": [
            "Decision Tree Classifier Accuracy: 0.7803650094398993\n"
          ]
        }
      ]
    },
    {
      "cell_type": "markdown",
      "source": [
        "9.\tWrite a Python program using NLTK to identify bigrams that are frequently used together in movie reviews.\n"
      ],
      "metadata": {
        "id": "SdGLlBCk8UXh"
      }
    },
    {
      "cell_type": "code",
      "source": [
        "from nltk.collocations import BigramCollocationFinder\n",
        "from nltk.metrics import BigramAssocMeasures\n",
        "\n",
        "# Find bigrams in the movie reviews\n",
        "bigram_finder = BigramCollocationFinder.from_words(movie_reviews.words())\n",
        "bigrams = bigram_finder.nbest(BigramAssocMeasures.likelihood_ratio, 10)\n",
        "\n",
        "# Print the most frequent bigrams\n",
        "print(bigrams)"
      ],
      "metadata": {
        "colab": {
          "base_uri": "https://localhost:8080/"
        },
        "id": "LW_LuqEi8VKw",
        "outputId": "0185e5f0-6006-430d-e30d-d1b330205eb7"
      },
      "execution_count": null,
      "outputs": [
        {
          "output_type": "stream",
          "name": "stdout",
          "text": [
            "[(\"'\", 's'), (\"'\", 't'), (',', 'but'), (',', 'and'), ('of', 'the'), ('the', 'film'), ('it', \"'\"), ('to', 'be'), ('in', 'the'), ('doesn', \"'\")]\n"
          ]
        }
      ]
    },
    {
      "cell_type": "markdown",
      "source": [
        "10.\tWrite a Python program to train a Naive Bayes classifier on the movie_reviews corpus with features based on word lengths.\n"
      ],
      "metadata": {
        "id": "z6C0WEpX8VP3"
      }
    },
    {
      "cell_type": "code",
      "source": [
        "# Feature extractor based on word lengths\n",
        "def extract_word_length_features(words):\n",
        "    return {'word_length': len(words)}\n",
        "\n",
        "# Prepare the dataset\n",
        "train_data_length = [(extract_word_length_features(movie_reviews.words(fileid)), category)\n",
        "                     for fileid, category in zip(movie_reviews.fileids(), ['pos', 'neg'])]\n",
        "\n",
        "# Train Naive Bayes classifier\n",
        "length_classifier = nltk.NaiveBayesClassifier.train(train_data_length)\n",
        "\n",
        "# Evaluate the classifier\n",
        "length_accuracy = nltk.classify.accuracy(length_classifier, test_data)\n",
        "print(f\"Word Length Classifier Accuracy: {length_accuracy}\")"
      ],
      "metadata": {
        "colab": {
          "base_uri": "https://localhost:8080/"
        },
        "id": "PT0lItq68WOg",
        "outputId": "984735f3-d2a1-43aa-f8a6-8c0feb4aba0e"
      },
      "execution_count": null,
      "outputs": [
        {
          "output_type": "stream",
          "name": "stdout",
          "text": [
            "Word Length Classifier Accuracy: 0.5\n"
          ]
        }
      ]
    },
    {
      "cell_type": "markdown",
      "source": [
        "11.\tWrite a Python program using NLTK to create a frequency distribution of word lengths from movie reviews.\n"
      ],
      "metadata": {
        "id": "yNJ_AhoM8WVj"
      }
    },
    {
      "cell_type": "code",
      "source": [
        "# Get word lengths from movie reviews\n",
        "word_lengths = [len(word) for word in movie_reviews.words()]\n",
        "\n",
        "# Calculate frequency distribution of word lengths\n",
        "fdist_lengths = FreqDist(word_lengths)\n",
        "\n",
        "# Print the frequency distribution\n",
        "print(fdist_lengths)"
      ],
      "metadata": {
        "colab": {
          "base_uri": "https://localhost:8080/"
        },
        "id": "ll2Et4pw8XCz",
        "outputId": "46c7e1b2-676a-4475-9755-1661bfe1185c"
      },
      "execution_count": null,
      "outputs": [
        {
          "output_type": "stream",
          "name": "stdout",
          "text": [
            "<FreqDist with 31 samples and 1583820 outcomes>\n"
          ]
        }
      ]
    },
    {
      "cell_type": "markdown",
      "source": [
        "12.\tWrite a Python program to extract all named entities from a given text using NLTK's ne_chunk functionality."
      ],
      "metadata": {
        "id": "plNBDbWN8XIm"
      }
    },
    {
      "cell_type": "code",
      "source": [
        "from nltk import word_tokenize, pos_tag, ne_chunk\n",
        "\n",
        "# Sample text\n",
        "text = \"Barack Obama was born in Hawaii. He is a prominent figure in politics.\"\n",
        "\n",
        "# Tokenize, POS tag and extract named entities\n",
        "tokens = word_tokenize(text)\n",
        "tags = pos_tag(tokens)\n",
        "tree = ne_chunk(tags)\n",
        "\n",
        "# Print named entities\n",
        "print(tree)"
      ],
      "metadata": {
        "colab": {
          "base_uri": "https://localhost:8080/"
        },
        "id": "J_baM81e8Xie",
        "outputId": "8ed692e3-101b-46df-b1ad-5f45d37710e4"
      },
      "execution_count": null,
      "outputs": [
        {
          "output_type": "stream",
          "name": "stdout",
          "text": [
            "(S\n",
            "  (PERSON Barack/NNP)\n",
            "  (PERSON Obama/NNP)\n",
            "  was/VBD\n",
            "  born/VBN\n",
            "  in/IN\n",
            "  (GPE Hawaii/NNP)\n",
            "  ./.\n",
            "  He/PRP\n",
            "  is/VBZ\n",
            "  a/DT\n",
            "  prominent/JJ\n",
            "  figure/NN\n",
            "  in/IN\n",
            "  politics/NNS\n",
            "  ./.)\n"
          ]
        }
      ]
    },
    {
      "cell_type": "code",
      "source": [],
      "metadata": {
        "id": "Qcxks_cV81LO"
      },
      "execution_count": null,
      "outputs": []
    }
  ]
}